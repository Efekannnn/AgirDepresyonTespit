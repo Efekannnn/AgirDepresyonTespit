{
  "nbformat": 4,
  "nbformat_minor": 0,
  "metadata": {
    "colab": {
      "provenance": [],
      "authorship_tag": "ABX9TyP5+jkprr4PFEBmTOshF6ql",
      "include_colab_link": true
    },
    "kernelspec": {
      "name": "python3",
      "display_name": "Python 3"
    },
    "language_info": {
      "name": "python"
    }
  },
  "cells": [
    {
      "cell_type": "markdown",
      "metadata": {
        "id": "view-in-github",
        "colab_type": "text"
      },
      "source": [
        "<a href=\"https://colab.research.google.com/github/Efekannnn/AgirDepresyonTespit/blob/main/Untitled.ipynb\" target=\"_parent\"><img src=\"https://colab.research.google.com/assets/colab-badge.svg\" alt=\"Open In Colab\"/></a>"
      ]
    },
    {
      "cell_type": "code",
      "execution_count": null,
      "metadata": {
        "id": "w9zARAxc09Z8"
      },
      "outputs": [],
      "source": [
        "!pip install transformers\n",
        "!pip install matplotlib"
      ]
    },
    {
      "cell_type": "code",
      "source": [
        "import pandas as pd\n",
        "import numpy as np\n",
        "from sklearn.model_selection import train_test_split\n",
        "from transformers import RobertaTokenizerFast, RobertaForSequenceClassification, Trainer, TrainingArguments\n",
        "from sklearn.metrics import accuracy_score\n",
        "\n",
        "try:\n",
        "    df = pd.read_csv('cleaned_combined_data.csv')\n",
        "except FileNotFoundError:\n",
        "    print(\"Data seti bulunamadı\")\n",
        "    df = pd.DataFrame({'cleaned_text': [], 'label': []})\n",
        "\n",
        "\n",
        "if not {'cleaned_text', 'label'}.issubset(df.columns):\n",
        "    print(\"Data setinde hata\")\n",
        "\n",
        "from google.colab import drive\n",
        "drive.mount('/content/drive')"
      ],
      "metadata": {
        "id": "zy5RUi_Q1D42"
      },
      "execution_count": null,
      "outputs": []
    },
    {
      "cell_type": "code",
      "source": [
        "from transformers import AutoTokenizer, AutoModelForSequenceClassification\n",
        "df['cleaned_text'] = df['cleaned_text'].str.strip()\n",
        "\n",
        "train_texts, val_texts, train_labels, val_labels = train_test_split(\n",
        "    df['cleaned_text'].tolist(), df['label'].tolist(), test_size=0.2, random_state=42\n",
        ")\n",
        "\n",
        "model_name = \"xlm-roberta-base\"\n",
        "tokenizer = AutoTokenizer.from_pretrained(model_name)\n",
        "model = AutoModelForSequenceClassification.from_pretrained(model_name, num_labels=2)\n",
        "\n",
        "train_encodings = tokenizer(train_texts, truncation=True, padding=True)\n",
        "val_encodings = tokenizer(val_texts, truncation=True, padding=True)"
      ],
      "metadata": {
        "id": "gj0zGyAw1GIJ"
      },
      "execution_count": null,
      "outputs": []
    },
    {
      "cell_type": "code",
      "source": [
        "import torch\n",
        "class MentalHealthDataset(torch.utils.data.Dataset):\n",
        "    def _init_(self, encodings, labels):\n",
        "        self.encodings = encodings\n",
        "        self.labels = labels\n",
        "\n",
        "    def _getitem_(self, idx):\n",
        "        item = {key: torch.tensor(val[idx]) for key, val in self.encodings.items()}\n",
        "        item['labels'] = torch.tensor(self.labels[idx])\n",
        "        return item\n",
        "\n",
        "    def _len_(self):\n",
        "        return len(self.labels)\n",
        "\n",
        "\n",
        "train_dataset = MentalHealthDataset(train_encodings, train_labels)\n",
        "val_dataset = MentalHealthDataset(val_encodings, val_labels)\n",
        "\n",
        "training_args = TrainingArguments(\n",
        "    output_dir='./results',\n",
        "    num_train_epochs=4,\n",
        "    per_device_train_batch_size=16,\n",
        "    per_device_eval_batch_size=16,\n",
        "    warmup_steps=500,\n",
        "    weight_decay=0.01,\n",
        "    logging_dir='./logs',\n",
        "    logging_steps=10,\n",
        "    evaluation_strategy=\"epoch\",\n",
        "    report_to=\"none\",\n",
        ")\n",
        "def save_times(training_time, inference_time, file_path):\n",
        "       with open(file_path, 'w') as f:\n",
        "           f.write(f\"Training time: {training_time} seconds\\n\")\n",
        "           f.write(f\"Inference time: {inference_time} seconds\\n\")"
      ],
      "metadata": {
        "id": "4FngxazH1MZO"
      },
      "execution_count": null,
      "outputs": []
    },
    {
      "cell_type": "code",
      "source": [
        "trainer = Trainer(\n",
        "    model=model,\n",
        "    args=training_args,\n",
        "    train_dataset=train_dataset,\n",
        "    eval_dataset=val_dataset,\n",
        ")\n",
        "import time\n",
        "start_time = time.time()\n",
        "trainer.train()\n",
        "end_time = time.time()\n",
        "training_time = end_time - start_time\n",
        "print(f\"Training time: {training_time} seconds\")\n",
        "\n",
        "import matplotlib.pyplot as plt\n",
        "\n",
        "\n",
        "egitim_kayıp_deger = trainer.state.log_history[::len(trainer.state.log_history) // training_args.num_train_epochs]\n",
        "egitim_kayıp_deger = [d['loss'] for d in egitim_kayıp_deger if 'loss' in d]\n",
        "\n",
        "degerlendirme_kayıp_deger = [d['eval_loss'] for d in trainer.state.log_history if 'eval_loss' in d]\n",
        "\n",
        "\n",
        "epochs = range(1, training_args.num_train_epochs + 1)\n",
        "\n",
        "plt.plot(epochs, egitim_kayıp_deger, label='Eğitim Kaybı')\n",
        "\n",
        "plt.plot(epochs, degerlendirme_kayıp_deger, label='Doğrulama Kaybı')\n",
        "\n",
        "plt.xlabel(\"Epoch\")\n",
        "plt.ylabel(\"Loss\")\n",
        "plt.title(\"Epoch Size vs. Loss\")\n",
        "plt.grid(True)\n",
        "plt.legend()\n",
        "\n",
        "plt.savefig(\"/content/drive/MyDrive/my_mental_health_model/roberta/epoch_vs_loss.png\")\n",
        "\n",
        "plt.show()\n",
        "\n",
        "model.save_pretrained(\"/content/drive/MyDrive/my_mental_health_model/roberta\")\n",
        "tokenizer.save_pretrained(\"/content/drive/MyDrive/my_mental_health_model/roberta\")\n",
        "\n",
        "start_time_i = time.time()\n",
        "predictions = trainer.predict(val_dataset)\n",
        "end_time_i = time.time()\n",
        "inference_time = end_time_i - start_time_i\n",
        "print(f\"Tek bir tahmin için çıkarım süresi: {inference_time} saniye\")\n",
        "\n",
        "\n",
        "file_path = '/content/drive/MyDrive/my_mental_health_model/roberta/training_inference_times.txt'\n",
        "save_times(training_time, inference_time, file_path)\n",
        "\n",
        "predicted_labels = np.argmax(predictions.predictions, axis=1)\n",
        "\n",
        "accuracy = accuracy_score(val_labels, predicted_labels)\n",
        "print(f\"Accuracy: {accuracy}\")"
      ],
      "metadata": {
        "id": "2ZDvp2CB1SX_"
      },
      "execution_count": null,
      "outputs": []
    }
  ]
}